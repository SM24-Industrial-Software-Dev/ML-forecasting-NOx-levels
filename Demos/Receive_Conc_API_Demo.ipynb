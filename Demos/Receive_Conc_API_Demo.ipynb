{
  "nbformat": 4,
  "nbformat_minor": 0,
  "metadata": {
    "colab": {
      "provenance": [],
      "authorship_tag": "ABX9TyNtPcOCU1fmRoEpDKE/JmdG",
      "include_colab_link": true
    },
    "kernelspec": {
      "name": "python3",
      "display_name": "Python 3"
    },
    "language_info": {
      "name": "python"
    }
  },
  "cells": [
    {
      "cell_type": "markdown",
      "metadata": {
        "id": "view-in-github",
        "colab_type": "text"
      },
      "source": [
        "<a href=\"https://colab.research.google.com/github/SM24-Industrial-Software-Dev/ML-forecasting-NOx-levels/blob/AP-Issue%234-API/Demos/Receive_Conc_API_Demo.ipynb\" target=\"_parent\"><img src=\"https://colab.research.google.com/assets/colab-badge.svg\" alt=\"Open In Colab\"/></a>"
      ]
    },
    {
      "cell_type": "code",
      "execution_count": null,
      "metadata": {
        "id": "IlK4RmncCbQQ"
      },
      "outputs": [],
      "source": [
        "import ee\n",
        "from google.colab import userdata\n",
        "\n",
        "credentials = ee.ServiceAccountCredentials(\"yeshiva-summer-2024-1@yu-summer-2024.iam.gserviceaccount.com\", key_data=userdata.get('GCP_CREDENTIALS'))\n",
        "ee.Initialize(credentials = credentials, project='yu-summer-2024', opt_url='https://earthengine-highvolume.googleapis.com')"
      ]
    },
    {
      "cell_type": "code",
      "source": [
        "import pandas as pd\n",
        "\n",
        "def get_Data(locations: ee.FeatureCollection,\n",
        "             start_date: str,\n",
        "             end_date: str,\n",
        "             cloudmasking: float) -> pd.DataFrame:\n",
        "\n",
        "\n",
        "  adminSelect=locations\n",
        "  no2Raw = ee.ImageCollection('COPERNICUS/S5P/OFFL/L3_NO2')\n",
        "\n",
        "  CLOUD_MASK_FRACTION = cloudmasking\n",
        "  def maskClouds(image):\n",
        "    cf = image.select('cloud_fraction')\n",
        "    mask=cf.lte(CLOUD_MASK_FRACTION)\n",
        "    return image.updateMask(mask).copyProperties(image)\n",
        "\n",
        "  try:\n",
        "    startDate, endDate = ee.Date(start_date), ee.Date(end_date)\n",
        "  except:\n",
        "    print(\"Invalid dates\")\n",
        "    return None\n",
        "\n",
        "  ndays = endDate.difference(startDate, 'days')\n",
        "\n",
        "  def create_date_list_fn(startDate):\n",
        "    def date_list_fn(days):\n",
        "      return startDate.advance(days, 'days')\n",
        "    return date_list_fn\n",
        "\n",
        "  # generate the list of dates\n",
        "\n",
        "  date_list_fn = create_date_list_fn(startDate)\n",
        "  list_of_dates = ee.List.sequence(0, ndays, 1).map(date_list_fn)\n",
        "\n",
        "  def image_mediancomposite_by_date(date):\n",
        "    return ee.ImageCollection('COPERNICUS/S5P/OFFL/L3_NO2')\\\n",
        "    .filterDate(ee.Date(date), ee.Date(date).advance(1, 'day'))\\\n",
        "    .map(maskClouds) \\\n",
        "    .select('tropospheric_NO2_column_number_density')\\\n",
        "    .median()\\\n",
        "    .set('system:time_start', ee.Date(date).millis())\n",
        "\n",
        "  no2 = ee.ImageCollection(\n",
        "        ee.List.sequence(0, ndays, 1)\\\n",
        "        .map(date_list_fn)\\\n",
        "        .map(image_mediancomposite_by_date)\n",
        "      )\n",
        "\n",
        "\n",
        "  def createConc(img):\n",
        "\n",
        "        def getConc(img):\n",
        "            no2Mean=img.reduceRegion(\n",
        "                  reducer = ee.Reducer.mean(),\n",
        "                  geometry = adminSelect.geometry(),\n",
        "                  scale =  7000\n",
        "                ).get('tropospheric_NO2_column_number_density')\n",
        "\n",
        "            region = img.get('region')\n",
        "\n",
        "            doy=img.date().getRelative('day', 'year')\n",
        "            dow=img.date().format('E')\n",
        "            dt=img.date().format(\"YYYY-MM-dd\")\n",
        "\n",
        "\n",
        "            # Handle potential missing values\n",
        "            feature_dict = {\n",
        "                'DOY': doy,\n",
        "                'DOW': dow,\n",
        "                'DATE': dt\n",
        "            }\n",
        "            if no2Mean:\n",
        "                feature_dict['conc'] = no2Mean\n",
        "                return adminSelect.map(lambda f: f.set(feature_dict)).first()\n",
        "            else:\n",
        "                return None\n",
        "\n",
        "        return getConc(img)\n",
        "\n",
        "  no2AggChange=no2.filterDate(startDate, endDate) \\\n",
        "                              .map(lambda img:createConc(img)) \\\n",
        "                              .filter(ee.Filter.notNull(['conc']))\n",
        "\n",
        "\n",
        "  def fc_to_dict(fc):\n",
        "    prop_names = fc.first().propertyNames()\n",
        "    prop_lists = fc.reduceColumns(\n",
        "        reducer=ee.Reducer.toList().repeat(prop_names.size()),\n",
        "        selectors=prop_names).get('list')\n",
        "\n",
        "    return ee.Dictionary.fromLists(prop_names, prop_lists)\n",
        "\n",
        "  NO2_stat_dict = fc_to_dict(no2AggChange).getInfo()\n",
        "  NO2_stat_df = pd.DataFrame(NO2_stat_dict)\n",
        "\n",
        "  return NO2_stat_df"
      ],
      "metadata": {
        "colab": {
          "base_uri": "https://localhost:8080/",
          "height": 17
        },
        "id": "OasMSF0WCm5b",
        "outputId": "75511127-4944-404e-eb58-9f4f0f00ca10"
      },
      "execution_count": null,
      "outputs": [
        {
          "output_type": "display_data",
          "data": {
            "text/plain": [
              "<IPython.core.display.HTML object>"
            ],
            "text/html": [
              "\n",
              "            <style>\n",
              "                .geemap-dark {\n",
              "                    --jp-widgets-color: white;\n",
              "                    --jp-widgets-label-color: white;\n",
              "                    --jp-ui-font-color1: white;\n",
              "                    --jp-layout-color2: #454545;\n",
              "                    background-color: #383838;\n",
              "                }\n",
              "\n",
              "                .geemap-dark .jupyter-button {\n",
              "                    --jp-layout-color3: #383838;\n",
              "                }\n",
              "\n",
              "                .geemap-colab {\n",
              "                    background-color: var(--colab-primary-surface-color, white);\n",
              "                }\n",
              "\n",
              "                .geemap-colab .jupyter-button {\n",
              "                    --jp-layout-color3: var(--colab-primary-surface-color, white);\n",
              "                }\n",
              "            </style>\n",
              "            "
            ]
          },
          "metadata": {}
        }
      ]
    },
    {
      "cell_type": "code",
      "source": [
        "!git clone https://github.com/SM24-Industrial-Software-Dev/ML-forecasting-NOx-levels.git\n",
        "!pip install import-ipynb\n",
        "import shutil\n",
        "# move the file to the working directory\n",
        "shutil.copy('ML-forecasting-NOx-levels/MSA_class.ipynb', '.')\n",
        "# This allows us to import the .ipynb flie as a python module\n",
        "import import_ipynb\n",
        "from MSA_class import MSA"
      ],
      "metadata": {
        "colab": {
          "base_uri": "https://localhost:8080/",
          "height": 749
        },
        "id": "aNMRHu9gDK9q",
        "outputId": "cf371c60-e9a3-4617-80d5-3baef742bb8e"
      },
      "execution_count": null,
      "outputs": [
        {
          "output_type": "stream",
          "name": "stdout",
          "text": [
            "fatal: destination path 'ML-forecasting-NOx-levels' already exists and is not an empty directory.\n",
            "Collecting import-ipynb\n",
            "  Downloading import_ipynb-0.1.4-py3-none-any.whl (4.1 kB)\n",
            "Requirement already satisfied: IPython in /usr/local/lib/python3.10/dist-packages (from import-ipynb) (7.34.0)\n",
            "Requirement already satisfied: nbformat in /usr/local/lib/python3.10/dist-packages (from import-ipynb) (5.10.4)\n",
            "Requirement already satisfied: setuptools>=18.5 in /usr/local/lib/python3.10/dist-packages (from IPython->import-ipynb) (67.7.2)\n",
            "Collecting jedi>=0.16 (from IPython->import-ipynb)\n",
            "  Downloading jedi-0.19.1-py2.py3-none-any.whl (1.6 MB)\n",
            "\u001b[2K     \u001b[90m━━━━━━━━━━━━━━━━━━━━━━━━━━━━━━━━━━━━━━━━\u001b[0m \u001b[32m1.6/1.6 MB\u001b[0m \u001b[31m6.3 MB/s\u001b[0m eta \u001b[36m0:00:00\u001b[0m\n",
            "\u001b[?25hRequirement already satisfied: decorator in /usr/local/lib/python3.10/dist-packages (from IPython->import-ipynb) (4.4.2)\n",
            "Requirement already satisfied: pickleshare in /usr/local/lib/python3.10/dist-packages (from IPython->import-ipynb) (0.7.5)\n",
            "Requirement already satisfied: traitlets>=4.2 in /usr/local/lib/python3.10/dist-packages (from IPython->import-ipynb) (5.7.1)\n",
            "Requirement already satisfied: prompt-toolkit!=3.0.0,!=3.0.1,<3.1.0,>=2.0.0 in /usr/local/lib/python3.10/dist-packages (from IPython->import-ipynb) (3.0.47)\n",
            "Requirement already satisfied: pygments in /usr/local/lib/python3.10/dist-packages (from IPython->import-ipynb) (2.16.1)\n",
            "Requirement already satisfied: backcall in /usr/local/lib/python3.10/dist-packages (from IPython->import-ipynb) (0.2.0)\n",
            "Requirement already satisfied: matplotlib-inline in /usr/local/lib/python3.10/dist-packages (from IPython->import-ipynb) (0.1.7)\n",
            "Requirement already satisfied: pexpect>4.3 in /usr/local/lib/python3.10/dist-packages (from IPython->import-ipynb) (4.9.0)\n",
            "Requirement already satisfied: fastjsonschema>=2.15 in /usr/local/lib/python3.10/dist-packages (from nbformat->import-ipynb) (2.20.0)\n",
            "Requirement already satisfied: jsonschema>=2.6 in /usr/local/lib/python3.10/dist-packages (from nbformat->import-ipynb) (4.19.2)\n",
            "Requirement already satisfied: jupyter-core!=5.0.*,>=4.12 in /usr/local/lib/python3.10/dist-packages (from nbformat->import-ipynb) (5.7.2)\n",
            "Requirement already satisfied: parso<0.9.0,>=0.8.3 in /usr/local/lib/python3.10/dist-packages (from jedi>=0.16->IPython->import-ipynb) (0.8.4)\n",
            "Requirement already satisfied: attrs>=22.2.0 in /usr/local/lib/python3.10/dist-packages (from jsonschema>=2.6->nbformat->import-ipynb) (23.2.0)\n",
            "Requirement already satisfied: jsonschema-specifications>=2023.03.6 in /usr/local/lib/python3.10/dist-packages (from jsonschema>=2.6->nbformat->import-ipynb) (2023.12.1)\n",
            "Requirement already satisfied: referencing>=0.28.4 in /usr/local/lib/python3.10/dist-packages (from jsonschema>=2.6->nbformat->import-ipynb) (0.35.1)\n",
            "Requirement already satisfied: rpds-py>=0.7.1 in /usr/local/lib/python3.10/dist-packages (from jsonschema>=2.6->nbformat->import-ipynb) (0.18.1)\n",
            "Requirement already satisfied: platformdirs>=2.5 in /usr/local/lib/python3.10/dist-packages (from jupyter-core!=5.0.*,>=4.12->nbformat->import-ipynb) (4.2.2)\n",
            "Requirement already satisfied: ptyprocess>=0.5 in /usr/local/lib/python3.10/dist-packages (from pexpect>4.3->IPython->import-ipynb) (0.7.0)\n",
            "Requirement already satisfied: wcwidth in /usr/local/lib/python3.10/dist-packages (from prompt-toolkit!=3.0.0,!=3.0.1,<3.1.0,>=2.0.0->IPython->import-ipynb) (0.2.13)\n",
            "Installing collected packages: jedi, import-ipynb\n",
            "Successfully installed import-ipynb-0.1.4 jedi-0.19.1\n",
            "importing Jupyter notebook from MSA_class.ipynb\n",
            "Collecting pycrs\n",
            "  Downloading PyCRS-1.0.2.tar.gz (36 kB)\n",
            "  Preparing metadata (setup.py) ... \u001b[?25l\u001b[?25hdone\n",
            "Building wheels for collected packages: pycrs\n",
            "  Building wheel for pycrs (setup.py) ... \u001b[?25l\u001b[?25hdone\n",
            "  Created wheel for pycrs: filename=PyCRS-1.0.2-py3-none-any.whl size=32687 sha256=38674c2d48ef55abda01e5d5885a41013e8ad50ee78d06b3cba69c634ffb2652\n",
            "  Stored in directory: /root/.cache/pip/wheels/47/1d/70/7a5bdf33347e7c75e95b06b1fa38f076a59a9506653cc24aff\n",
            "Successfully built pycrs\n",
            "Installing collected packages: pycrs\n",
            "Successfully installed pycrs-1.0.2\n"
          ]
        }
      ]
    },
    {
      "cell_type": "code",
      "source": [
        "msa = MSA()\n",
        "NY = msa.areas_by_name('New York-Newark-Jersey City, NY-NJ')"
      ],
      "metadata": {
        "colab": {
          "base_uri": "https://localhost:8080/",
          "height": 17
        },
        "id": "sNV1TbyPDQvU",
        "outputId": "bfca4e69-59e5-4e12-87b5-07c325fd9b0c"
      },
      "execution_count": null,
      "outputs": [
        {
          "output_type": "display_data",
          "data": {
            "text/plain": [
              "<IPython.core.display.HTML object>"
            ],
            "text/html": [
              "\n",
              "            <style>\n",
              "                .geemap-dark {\n",
              "                    --jp-widgets-color: white;\n",
              "                    --jp-widgets-label-color: white;\n",
              "                    --jp-ui-font-color1: white;\n",
              "                    --jp-layout-color2: #454545;\n",
              "                    background-color: #383838;\n",
              "                }\n",
              "\n",
              "                .geemap-dark .jupyter-button {\n",
              "                    --jp-layout-color3: #383838;\n",
              "                }\n",
              "\n",
              "                .geemap-colab {\n",
              "                    background-color: var(--colab-primary-surface-color, white);\n",
              "                }\n",
              "\n",
              "                .geemap-colab .jupyter-button {\n",
              "                    --jp-layout-color3: var(--colab-primary-surface-color, white);\n",
              "                }\n",
              "            </style>\n",
              "            "
            ]
          },
          "metadata": {}
        }
      ]
    },
    {
      "cell_type": "code",
      "source": [
        "print(get_Data(NY, \"2020-03-01\", \"2020-03-15\", 0.3).head())"
      ],
      "metadata": {
        "colab": {
          "base_uri": "https://localhost:8080/",
          "height": 364
        },
        "id": "JK3Y7Ad-DhZ-",
        "outputId": "7d96ff1a-7338-4a6f-d29b-d00d0320e7b4"
      },
      "execution_count": null,
      "outputs": [
        {
          "output_type": "display_data",
          "data": {
            "text/plain": [
              "<IPython.core.display.HTML object>"
            ],
            "text/html": [
              "\n",
              "            <style>\n",
              "                .geemap-dark {\n",
              "                    --jp-widgets-color: white;\n",
              "                    --jp-widgets-label-color: white;\n",
              "                    --jp-ui-font-color1: white;\n",
              "                    --jp-layout-color2: #454545;\n",
              "                    background-color: #383838;\n",
              "                }\n",
              "\n",
              "                .geemap-dark .jupyter-button {\n",
              "                    --jp-layout-color3: #383838;\n",
              "                }\n",
              "\n",
              "                .geemap-colab {\n",
              "                    background-color: var(--colab-primary-surface-color, white);\n",
              "                }\n",
              "\n",
              "                .geemap-colab .jupyter-button {\n",
              "                    --jp-layout-color3: var(--colab-primary-surface-color, white);\n",
              "                }\n",
              "            </style>\n",
              "            "
            ]
          },
          "metadata": {}
        },
        {
          "output_type": "stream",
          "name": "stdout",
          "text": [
            "         ALAND      AWATER CBSAFP CSAFP        DATE  DOW  DOY  GEOID  \\\n",
            "0  15901475257  6489939485  35620   408  2020-03-01  Sun   60  35620   \n",
            "1  15901475257  6489939485  35620   408  2020-03-02  Mon   61  35620   \n",
            "2  15901475257  6489939485  35620   408  2020-03-04  Wed   63  35620   \n",
            "3  15901475257  6489939485  35620   408  2020-03-05  Thu   64  35620   \n",
            "4  15901475257  6489939485  35620   408  2020-03-07  Sat   66  35620   \n",
            "\n",
            "          GEOIDFQ LSAD                                NAME  \\\n",
            "0  310M700US35620   M1  New York-Newark-Jersey City, NY-NJ   \n",
            "1  310M700US35620   M1  New York-Newark-Jersey City, NY-NJ   \n",
            "2  310M700US35620   M1  New York-Newark-Jersey City, NY-NJ   \n",
            "3  310M700US35620   M1  New York-Newark-Jersey City, NY-NJ   \n",
            "4  310M700US35620   M1  New York-Newark-Jersey City, NY-NJ   \n",
            "\n",
            "                                        NAMELSAD      conc system:index  \n",
            "0  New York-Newark-Jersey City, NY-NJ Metro Area  0.000034            0  \n",
            "1  New York-Newark-Jersey City, NY-NJ Metro Area  0.000097            1  \n",
            "2  New York-Newark-Jersey City, NY-NJ Metro Area  0.000046            3  \n",
            "3  New York-Newark-Jersey City, NY-NJ Metro Area  0.000061            4  \n",
            "4  New York-Newark-Jersey City, NY-NJ Metro Area  0.000024            6  \n"
          ]
        }
      ]
    }
  ]
}