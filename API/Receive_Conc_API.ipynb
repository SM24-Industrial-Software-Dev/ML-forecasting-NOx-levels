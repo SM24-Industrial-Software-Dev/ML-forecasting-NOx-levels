{
  "nbformat": 4,
  "nbformat_minor": 0,
  "metadata": {
    "colab": {
      "provenance": [],
      "include_colab_link": true
    },
    "kernelspec": {
      "name": "python3",
      "display_name": "Python 3"
    },
    "language_info": {
      "name": "python"
    }
  },
  "cells": [
    {
      "cell_type": "markdown",
      "metadata": {
        "id": "view-in-github",
        "colab_type": "text"
      },
      "source": [
        "<a href=\"https://colab.research.google.com/github/SM24-Industrial-Software-Dev/ML-forecasting-NOx-levels/blob/ES-33-forecasting-model/API/Receive_Conc_API.ipynb\" target=\"_parent\"><img src=\"https://colab.research.google.com/assets/colab-badge.svg\" alt=\"Open In Colab\"/></a>"
      ]
    },
    {
      "cell_type": "code",
      "execution_count": 1,
      "metadata": {
        "id": "IlK4RmncCbQQ"
      },
      "outputs": [],
      "source": [
        "import ee\n",
        "from google.colab import userdata\n",
        "\n",
        "credentials = ee.ServiceAccountCredentials(\"yeshiva-summer-2024-1@yu-summer-2024.iam.gserviceaccount.com\", key_data=userdata.get('GCP_CREDENTIALS'))\n",
        "ee.Initialize(credentials = credentials, project='yu-summer-2024', opt_url='https://earthengine-highvolume.googleapis.com')"
      ]
    },
    {
      "cell_type": "code",
      "source": [
        "import pandas as pd\n",
        "\n",
        "def get_nox_data(locations: ee.FeatureCollection,\n",
        "             start_date: str,\n",
        "             end_date: str,\n",
        "             cloudmasking: float) -> pd.DataFrame:\n",
        "  \"\"\"\n",
        "  Retrieves NOx concentration data for given locations and time period.\n",
        "\n",
        "  Args:\n",
        "      locations: Earth Engine FeatureCollection representing the locations.\n",
        "      start_date: Start date in YYYY-MM-DD format.\n",
        "      end_date: End date in YYYY-MM-DD format.\n",
        "      cloudmasking: Cloud masking fraction.\n",
        "\n",
        "  Returns:\n",
        "      A Pandas DataFrame containing NOx concentration data.\n",
        "  \"\"\"\n",
        "\n",
        "  adminSelect=locations\n",
        "  no2Raw = ee.ImageCollection('COPERNICUS/S5P/OFFL/L3_NO2')\n",
        "\n",
        "  CLOUD_MASK_FRACTION = cloudmasking\n",
        "  def maskClouds(image):\n",
        "    cf = image.select('cloud_fraction')\n",
        "    mask=cf.lte(CLOUD_MASK_FRACTION)\n",
        "    masked_image = image.updateMask(mask).copyProperties(image)\n",
        "    if isinstance(masked_image, ee.Image):\n",
        "      if masked_image.bandNames().gt(0):\n",
        "        return masked_image\n",
        "      else:\n",
        "        print('Warning: Cloud mask removed all bands. Returning original image.')\n",
        "        return image\n",
        "    else:\n",
        "      print('Warning: Masking resulted in a non-image object. Returning original image.')\n",
        "      return image\n",
        "\n",
        "  try:\n",
        "    startDate, endDate = ee.Date(start_date), ee.Date(end_date)\n",
        "  except:\n",
        "    print(\"Invalid dates\")\n",
        "    return None\n",
        "\n",
        "  ndays = endDate.difference(startDate, 'days')\n",
        "\n",
        "  def create_date_list_fn(startDate):\n",
        "    def date_list_fn(days):\n",
        "      return startDate.advance(days, 'days')\n",
        "    return date_list_fn\n",
        "\n",
        "  # generate the list of dates\n",
        "\n",
        "  date_list_fn = create_date_list_fn(startDate)\n",
        "  list_of_dates = ee.List.sequence(0, ndays, 1).map(date_list_fn)\n",
        "\n",
        "  def image_mediancomposite_by_date(date):\n",
        "    return ee.ImageCollection('COPERNICUS/S5P/OFFL/L3_NO2')\\\n",
        "    .filterDate(ee.Date(date), ee.Date(date).advance(1, 'day'))\\\n",
        "    .map(maskClouds) \\\n",
        "    .select('tropospheric_NO2_column_number_density')\\\n",
        "    .median()\\\n",
        "    .set('system:time_start', ee.Date(date).millis())\n",
        "\n",
        "  no2 = ee.ImageCollection(\n",
        "        ee.List.sequence(0, ndays, 1)\\\n",
        "        .map(date_list_fn)\\\n",
        "        .map(image_mediancomposite_by_date)\n",
        "      )\n",
        "\n",
        "\n",
        "  def createConc(img):\n",
        "\n",
        "        def getConc(img):\n",
        "            no2Mean=img.reduceRegion(\n",
        "                  reducer = ee.Reducer.mean(),\n",
        "                  geometry = adminSelect.geometry(),\n",
        "                  scale =  7000\n",
        "                ).get('tropospheric_NO2_column_number_density')\n",
        "\n",
        "            dt=img.date().format(\"YYYY-MM-dd\")\n",
        "\n",
        "\n",
        "            # Handle potential missing values\n",
        "            feature_dict = {\n",
        "                'date': dt\n",
        "            }\n",
        "            if no2Mean:\n",
        "                feature_dict['nox-concentration'] = no2Mean\n",
        "                return ee.Feature(None, feature_dict)\n",
        "            else:\n",
        "                return None\n",
        "\n",
        "        return getConc(img)\n",
        "\n",
        "  no2AggChange=no2.filterDate(startDate, endDate) \\\n",
        "                              .map(lambda img:createConc(img)) \\\n",
        "                              .filter(ee.Filter.notNull(['nox-concentration']))\n",
        "\n",
        "\n",
        "  def fc_to_dict(fc):\n",
        "    prop_names = fc.first().propertyNames()\n",
        "    prop_lists = fc.reduceColumns(\n",
        "        reducer=ee.Reducer.toList().repeat(prop_names.size()),\n",
        "        selectors=prop_names).get('list')\n",
        "\n",
        "    return ee.Dictionary.fromLists(prop_names, prop_lists)\n",
        "\n",
        "  NO2_stat_dict = fc_to_dict(no2AggChange).getInfo()\n",
        "  df = pd.DataFrame(NO2_stat_dict)\n",
        "  df['date'] = pd.to_datetime(df['date'])\n",
        "  return df"
      ],
      "metadata": {
        "id": "OasMSF0WCm5b",
        "colab": {
          "base_uri": "https://localhost:8080/",
          "height": 17
        },
        "outputId": "e12a0ab5-a524-4d4e-f21f-84d43aac550a"
      },
      "execution_count": 31,
      "outputs": [
        {
          "output_type": "display_data",
          "data": {
            "text/plain": [
              "<IPython.core.display.HTML object>"
            ],
            "text/html": [
              "\n",
              "            <style>\n",
              "                .geemap-dark {\n",
              "                    --jp-widgets-color: white;\n",
              "                    --jp-widgets-label-color: white;\n",
              "                    --jp-ui-font-color1: white;\n",
              "                    --jp-layout-color2: #454545;\n",
              "                    background-color: #383838;\n",
              "                }\n",
              "\n",
              "                .geemap-dark .jupyter-button {\n",
              "                    --jp-layout-color3: #383838;\n",
              "                }\n",
              "\n",
              "                .geemap-colab {\n",
              "                    background-color: var(--colab-primary-surface-color, white);\n",
              "                }\n",
              "\n",
              "                .geemap-colab .jupyter-button {\n",
              "                    --jp-layout-color3: var(--colab-primary-surface-color, white);\n",
              "                }\n",
              "            </style>\n",
              "            "
            ]
          },
          "metadata": {}
        }
      ]
    }
  ]
}