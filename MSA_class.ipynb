{
  "nbformat": 4,
  "nbformat_minor": 0,
  "metadata": {
    "colab": {
      "provenance": [],
      "collapsed_sections": [
        "yLc3_-HosAqW",
        "8suwBBa4HG_a"
      ],
      "gpuType": "V28",
      "authorship_tag": "ABX9TyN4Ev0RHCAHpMsTY9jFxkRD",
      "include_colab_link": true
    },
    "kernelspec": {
      "name": "python3",
      "display_name": "Python 3"
    },
    "language_info": {
      "name": "python"
    },
    "accelerator": "TPU"
  },
  "cells": [
    {
      "cell_type": "markdown",
      "metadata": {
        "id": "view-in-github",
        "colab_type": "text"
      },
      "source": [
        "<a href=\"https://colab.research.google.com/github/SM24-Industrial-Software-Dev/ML-forecasting-NOx-levels/blob/ES-19-MSA-Data-Update/MSA_class.ipynb\" target=\"_parent\"><img src=\"https://colab.research.google.com/assets/colab-badge.svg\" alt=\"Open In Colab\"/></a>"
      ]
    },
    {
      "cell_type": "markdown",
      "metadata": {
        "id": "yLc3_-HosAqW"
      },
      "source": [
        "### This is the setup code"
      ]
    },
    {
      "cell_type": "code",
      "execution_count": null,
      "metadata": {
        "colab": {
          "base_uri": "https://localhost:8080/"
        },
        "collapsed": true,
        "id": "qBsRAklW2ghB",
        "outputId": "2c04c8ff-d2bc-4746-b287-040e0c6bbbff"
      },
      "outputs": [
        {
          "output_type": "stream",
          "name": "stdout",
          "text": [
            "Requirement already satisfied: pycrs in /usr/local/lib/python3.10/dist-packages (1.0.2)\n"
          ]
        }
      ],
      "source": [
        "# Imports and Installations\n",
        "from google.colab import userdata\n",
        "import ee\n",
        "import os\n",
        "import requests\n",
        "import zipfile\n",
        "import io\n",
        "import geemap\n",
        "\n",
        "!pip install pycrs"
      ]
    },
    {
      "cell_type": "code",
      "execution_count": null,
      "metadata": {
        "colab": {
          "base_uri": "https://localhost:8080/"
        },
        "id": "xG3klrPR5i0W",
        "outputId": "4107523e-2d58-4aed-c695-bd5f8847be78"
      },
      "outputs": [
        {
          "output_type": "display_data",
          "data": {
            "text/plain": [
              "<IPython.core.display.HTML object>"
            ],
            "text/html": [
              "\n",
              "            <style>\n",
              "                .geemap-dark {\n",
              "                    --jp-widgets-color: white;\n",
              "                    --jp-widgets-label-color: white;\n",
              "                    --jp-ui-font-color1: white;\n",
              "                    --jp-layout-color2: #454545;\n",
              "                    background-color: #383838;\n",
              "                }\n",
              "\n",
              "                .geemap-dark .jupyter-button {\n",
              "                    --jp-layout-color3: #383838;\n",
              "                }\n",
              "\n",
              "                .geemap-colab {\n",
              "                    background-color: var(--colab-primary-surface-color, white);\n",
              "                }\n",
              "\n",
              "                .geemap-colab .jupyter-button {\n",
              "                    --jp-layout-color3: var(--colab-primary-surface-color, white);\n",
              "                }\n",
              "            </style>\n",
              "            "
            ]
          },
          "metadata": {}
        }
      ],
      "source": [
        "# Authenticate GEE\n",
        "credentials = ee.ServiceAccountCredentials(\"yeshiva-summer-2024-1@yu-summer-2024.iam.gserviceaccount.com\", key_data=userdata.get('GCP_CREDENTIALS'))\n",
        "ee.Initialize(credentials = credentials, project='yu-summer-2024', opt_url='https://earthengine-highvolume.googleapis.com')"
      ]
    },
    {
      "cell_type": "markdown",
      "source": [
        "### This is the code for a class used to obtain a list of all MSAs and their boundaries"
      ],
      "metadata": {
        "id": "8suwBBa4HG_a"
      }
    },
    {
      "source": [
        "# The class definition\n",
        "class MSA:\n",
        "    def __init__(self):\n",
        "        \"\"\"\n",
        "        Initializes an object representing a collection of Metropolitan Statistical Areas (MSAs)\n",
        "        \"\"\"\n",
        "        self._msa_low_res = self._retrieve_msas()\n",
        "        self._names = self._msa_low_res.aggregate_array('NAME').getInfo()\n",
        "        self._pop = ee.ImageCollection('CIESIN/GPWv411/GPW_Population_Count') \\\n",
        "            .filter(ee.Filter.calendarRange(2020, 2020, 'year')) \\\n",
        "            .mean()\n",
        "\n",
        "    @property\n",
        "    def all_areas(self):\n",
        "      \"\"\"\n",
        "      Returns a FeatureCollection of all Metropolitan Statistical Areas (MSAs)\n",
        "      \"\"\"\n",
        "      return self._pop.clipToCollection(self._msa_low_res)\n",
        "\n",
        "    @property\n",
        "    def names(self) -> list[str]:\n",
        "      \"\"\"\n",
        "      Returns a list of all the MSA names.\n",
        "      \"\"\"\n",
        "      return self._names\n",
        "\n",
        "    def get_areas(self, names: str | list[str]):\n",
        "      \"\"\"\n",
        "      Filters a FeatureCollection of MSAs by the selected name(s).\n",
        "\n",
        "      Args:\n",
        "        names (str or list[str]): The name(s) to filter by.\n",
        "\n",
        "      Returns:\n",
        "      \"\"\"\n",
        "      if isinstance(names, str):\n",
        "        names = [names]\n",
        "      # Return only the MSA geometries, not the clipped population image\n",
        "      return self._msa_low_res.filter(ee.Filter.inList('NAME', names))\n",
        "\n",
        "    def get_areas_pop(self, names: str | list[str] = None, areas: ee.FeatureCollection = None) -> tuple[str, int] | list[tuple[str, int]]:\n",
        "      if not names and not areas:\n",
        "        raise ValueError(\"Either 'names' or 'areas' must be provided.\")\n",
        "      if names and areas and len(names) != len(areas.aggregate_array('NAME').getInfo()):\n",
        "        raise ValueError(\"'names' and 'areas' do not match.\")\n",
        "      if not names:\n",
        "        names = areas.aggregate_array('NAME').getInfo()\n",
        "      if not areas:\n",
        "        areas = []\n",
        "        for name in names:\n",
        "          areas.append(self.get_areas(names))\n",
        "      else:\n",
        "        feature_list = areas.toList(areas.size())\n",
        "        areas = []\n",
        "        for area in feature_list:\n",
        "          areas.append(ee.Feature(area))\n",
        "\n",
        "      if isinstance(names, str) or len(names) == 1:\n",
        "        if isinstance(names, str):\n",
        "          names = [names]\n",
        "        population_image = self._pop.clip(areas)\n",
        "        population_sum = population_image.reduceRegion(\n",
        "            reducer=ee.Reducer.sum(),\n",
        "            geometry=areas.geometry(),\n",
        "            scale=925,\n",
        "            maxPixels=1e13\n",
        "        ).get('population_count')\n",
        "        return (names[0], int(population_sum.getInfo()))\n",
        "      else:\n",
        "        pop_sums = []\n",
        "        for name, feature in zip(names, areas):\n",
        "          population_image = self._pop.clip(feature)\n",
        "          population_sum = population_image.reduceRegion(\n",
        "              reducer=ee.Reducer.sum(),\n",
        "              geometry=feature.geometry(),\n",
        "              scale=925,\n",
        "              maxPixels=1e13\n",
        "          ).get('population_count')\n",
        "          pop_sums.append((name, int(population_sum.getInfo())))\n",
        "        return pop_sums\n",
        "\n",
        "\n",
        "    # Only used so far to obtain the low resolution shapefile, at a resolution of 1:20,000,000\n",
        "    def _retrieve_msas(self, resolution='20m'):\n",
        "      \"\"\"\n",
        "      Retrieves a shapefile containing all Core-Based Statistical Areas (CBSAs)\n",
        "\n",
        "      Args:\n",
        "          resolution (str): The resolution of the shapefile (20m by default, can be 500k, 5m, or 20m)\n",
        "\n",
        "      Returns:\n",
        "          FeatureCollection: A FeatureCollection of Metropolitan Statistical Areas (MSAs)\n",
        "      \"\"\"\n",
        "      year = 2023\n",
        "      filename = f'cb_{year}_us_cbsa_{resolution}'\n",
        "      if not os.path.exists(f'/content/{filename}.shp'):\n",
        "        # Download the shapefile\n",
        "        response = requests.get(f'https://www2.census.gov/geo/tiger/GENZ{year}/shp/{filename}.zip')\n",
        "        # Check if the request was successful\n",
        "        if response.status_code != 200:\n",
        "            raise Exception(f\"Failed to download shapefile. Status code: {response.status_code}\")\n",
        "        # Extract the shapefile\n",
        "        with zipfile.ZipFile(io.BytesIO(response.content)) as zip_ref:\n",
        "            zip_ref.extractall()\n",
        "\n",
        "      # Upload the shapefile to GEE by reading it with Latin-1 encoding, which is commonly used for shapefiles\n",
        "      cbsas = geemap.shp_to_ee(f'{filename}.shp', encoding='latin1')\n",
        "\n",
        "      # Then filter for Metropolitan Statistical Areas (MSAs), which are CBSAs with a population > 50k\n",
        "      return cbsas.filter(ee.Filter.eq('LSAD', 'M1'))"
      ],
      "cell_type": "code",
      "metadata": {
        "id": "hQolXq31Jq4v",
        "colab": {
          "base_uri": "https://localhost:8080/",
          "height": 17
        },
        "outputId": "f0bdd6dd-3aff-4f3e-f260-1b9f55b54870"
      },
      "execution_count": null,
      "outputs": [
        {
          "output_type": "display_data",
          "data": {
            "text/plain": [
              "<IPython.core.display.HTML object>"
            ],
            "text/html": [
              "\n",
              "            <style>\n",
              "                .geemap-dark {\n",
              "                    --jp-widgets-color: white;\n",
              "                    --jp-widgets-label-color: white;\n",
              "                    --jp-ui-font-color1: white;\n",
              "                    --jp-layout-color2: #454545;\n",
              "                    background-color: #383838;\n",
              "                }\n",
              "\n",
              "                .geemap-dark .jupyter-button {\n",
              "                    --jp-layout-color3: #383838;\n",
              "                }\n",
              "\n",
              "                .geemap-colab {\n",
              "                    background-color: var(--colab-primary-surface-color, white);\n",
              "                }\n",
              "\n",
              "                .geemap-colab .jupyter-button {\n",
              "                    --jp-layout-color3: var(--colab-primary-surface-color, white);\n",
              "                }\n",
              "            </style>\n",
              "            "
            ]
          },
          "metadata": {}
        }
      ]
    }
  ]
}