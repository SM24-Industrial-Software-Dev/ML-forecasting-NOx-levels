{
  "nbformat": 4,
  "nbformat_minor": 0,
  "metadata": {
    "colab": {
      "provenance": [],
      "gpuType": "V28",
      "authorship_tag": "ABX9TyMbLHM4fpkEjKw9vYMhOg74",
      "include_colab_link": true
    },
    "kernelspec": {
      "name": "python3",
      "display_name": "Python 3"
    },
    "language_info": {
      "name": "python"
    },
    "accelerator": "TPU"
  },
  "cells": [
    {
      "cell_type": "markdown",
      "metadata": {
        "id": "view-in-github",
        "colab_type": "text"
      },
      "source": [
        "<a href=\"https://colab.research.google.com/github/SM24-Industrial-Software-Dev/ML-forecasting-NOx-levels/blob/ES-19-MSA-Data-Update/MSA_class.ipynb\" target=\"_parent\"><img src=\"https://colab.research.google.com/assets/colab-badge.svg\" alt=\"Open In Colab\"/></a>"
      ]
    },
    {
      "cell_type": "markdown",
      "metadata": {
        "id": "yLc3_-HosAqW"
      },
      "source": [
        "### This is the setup code"
      ]
    },
    {
      "cell_type": "code",
      "execution_count": null,
      "metadata": {
        "colab": {
          "base_uri": "https://localhost:8080/",
          "height": 34
        },
        "collapsed": true,
        "id": "qBsRAklW2ghB",
        "outputId": "91c5462b-c9dc-46a4-f3e3-0e241cc418d4"
      },
      "outputs": [
        {
          "output_type": "display_data",
          "data": {
            "text/plain": [
              "<IPython.core.display.HTML object>"
            ],
            "text/html": [
              "\n",
              "            <style>\n",
              "                .geemap-dark {\n",
              "                    --jp-widgets-color: white;\n",
              "                    --jp-widgets-label-color: white;\n",
              "                    --jp-ui-font-color1: white;\n",
              "                    --jp-layout-color2: #454545;\n",
              "                    background-color: #383838;\n",
              "                }\n",
              "\n",
              "                .geemap-dark .jupyter-button {\n",
              "                    --jp-layout-color3: #383838;\n",
              "                }\n",
              "\n",
              "                .geemap-colab {\n",
              "                    background-color: var(--colab-primary-surface-color, white);\n",
              "                }\n",
              "\n",
              "                .geemap-colab .jupyter-button {\n",
              "                    --jp-layout-color3: var(--colab-primary-surface-color, white);\n",
              "                }\n",
              "            </style>\n",
              "            "
            ]
          },
          "metadata": {}
        },
        {
          "output_type": "stream",
          "name": "stdout",
          "text": [
            "Requirement already satisfied: pycrs in /usr/local/lib/python3.10/dist-packages (1.0.2)\n"
          ]
        }
      ],
      "source": [
        "# Imports and Installations\n",
        "from google.colab import userdata\n",
        "import ee\n",
        "import os\n",
        "import requests\n",
        "import zipfile\n",
        "import io\n",
        "import geemap\n",
        "import pandas as pd\n",
        "import numpy as np\n",
        "\n",
        "!pip install pycrs"
      ]
    },
    {
      "cell_type": "code",
      "execution_count": null,
      "metadata": {
        "colab": {
          "base_uri": "https://localhost:8080/",
          "height": 17
        },
        "id": "xG3klrPR5i0W",
        "outputId": "d7183139-4f70-44d2-ab1c-e97cba42edd0"
      },
      "outputs": [
        {
          "output_type": "display_data",
          "data": {
            "text/plain": [
              "<IPython.core.display.HTML object>"
            ],
            "text/html": [
              "\n",
              "            <style>\n",
              "                .geemap-dark {\n",
              "                    --jp-widgets-color: white;\n",
              "                    --jp-widgets-label-color: white;\n",
              "                    --jp-ui-font-color1: white;\n",
              "                    --jp-layout-color2: #454545;\n",
              "                    background-color: #383838;\n",
              "                }\n",
              "\n",
              "                .geemap-dark .jupyter-button {\n",
              "                    --jp-layout-color3: #383838;\n",
              "                }\n",
              "\n",
              "                .geemap-colab {\n",
              "                    background-color: var(--colab-primary-surface-color, white);\n",
              "                }\n",
              "\n",
              "                .geemap-colab .jupyter-button {\n",
              "                    --jp-layout-color3: var(--colab-primary-surface-color, white);\n",
              "                }\n",
              "            </style>\n",
              "            "
            ]
          },
          "metadata": {}
        }
      ],
      "source": [
        "# Authenticate GEE\n",
        "credentials = ee.ServiceAccountCredentials(\"yeshiva-summer-2024-1@yu-summer-2024.iam.gserviceaccount.com\", key_data=userdata.get('GCP_CREDENTIALS'))\n",
        "ee.Initialize(credentials = credentials, project='yu-summer-2024', opt_url='https://earthengine-highvolume.googleapis.com')"
      ]
    },
    {
      "cell_type": "markdown",
      "source": [
        "### This is the code for a class used to obtain a list of all MSAs and their boundaries"
      ],
      "metadata": {
        "id": "8suwBBa4HG_a"
      }
    },
    {
      "source": [
        "# The class definition\n",
        "class MSA:\n",
        "    def __init__(self):\n",
        "      \"\"\"\n",
        "      Initializes an object representing a collection of Metropolitan Statistical Areas (MSAs)\n",
        "      \"\"\"\n",
        "      self._msa_low_res = self._retrieve_msas()\n",
        "      self._names = self._msa_low_res.aggregate_array('NAME').getInfo()\n",
        "      self._pop_totals = self._get_pop_totals()\n",
        "      self._pop_image = ee.ImageCollection('CIESIN/GPWv411/GPW_Population_Count') \\\n",
        "          .filter(ee.Filter.calendarRange(2020, 2020, 'year')) \\\n",
        "          .mean()\n",
        "\n",
        "    @property\n",
        "    def all_areas(self) -> ee.FeatureCollection:\n",
        "      \"\"\"\n",
        "      Returns a FeatureCollection of all Metropolitan Statistical Areas (MSAs)\n",
        "      \"\"\"\n",
        "      return self._msa_low_res\n",
        "\n",
        "    @property\n",
        "    def names(self) -> list[str]:\n",
        "      \"\"\"\n",
        "      Returns a list of all the MSA names.\n",
        "      \"\"\"\n",
        "      return self._names\n",
        "\n",
        "    def get_areas(self, names: str | list[str]) -> ee.FeatureCollection:\n",
        "      \"\"\"\n",
        "      Filters a FeatureCollection of MSAs by the selected name(s).\n",
        "\n",
        "      Args:\n",
        "        names (str or list[str]): The name(s) to filter by.\n",
        "\n",
        "      Returns:\n",
        "        ee.FeatureCollection: A FeatureCollection of MSAs that match the selected names.\n",
        "      \"\"\"\n",
        "      if not names:\n",
        "        return self.all_areas\n",
        "      if isinstance(names, str):\n",
        "        names = [names]\n",
        "      return self._msa_low_res.filter(ee.Filter.inList('NAME', names))\n",
        "\n",
        "    def get_areas_pop(self, names: str | list[str]) -> dict[str, int]:\n",
        "      if not names:\n",
        "        return {}\n",
        "      if isinstance(names, str):\n",
        "        names = [names]\n",
        "\n",
        "      # Get the population for each MSA\n",
        "      return {name: int(self._pop_totals.loc[name]) for name in names}\n",
        "\n",
        "\n",
        "    # Only used so far to obtain the low resolution shapefile, at a resolution of 1:20,000,000\n",
        "    def _retrieve_msas(self, resolution='20m') -> ee.FeatureCollection:\n",
        "      \"\"\"\n",
        "      Retrieves a shapefile containing all Core-Based Statistical Areas (CBSAs)\n",
        "\n",
        "      Args:\n",
        "          resolution (str): The resolution of the shapefile (20m by default, can be 500k, 5m, or 20m)\n",
        "\n",
        "      Returns:\n",
        "          FeatureCollection: A FeatureCollection of Metropolitan Statistical Areas (MSAs)\n",
        "      \"\"\"\n",
        "      year = 2023\n",
        "      filename = f'cb_{year}_us_cbsa_{resolution}'\n",
        "      if not os.path.exists(os.path.join('.',f'{filename}.shp')):\n",
        "        # Download the shapefile\n",
        "        response = requests.get(f'https://www2.census.gov/geo/tiger/GENZ{year}/shp/{filename}.zip')\n",
        "        # Check if the request was successful\n",
        "        if response.status_code != 200:\n",
        "            raise Exception(f\"Failed to download shapefile. Status code: {response.status_code}\")\n",
        "        # Extract the shapefile\n",
        "        with zipfile.ZipFile(io.BytesIO(response.content)) as zip_ref:\n",
        "            zip_ref.extractall()\n",
        "\n",
        "      # Upload the shapefile to GEE by reading it with Latin-1 encoding, which is commonly used for shapefiles\n",
        "      cbsas = geemap.shp_to_ee(f'{filename}.shp', encoding='latin1')\n",
        "\n",
        "      # Then filter for Metropolitan Statistical Areas (MSAs), which are CBSAs with a population > 50k\n",
        "      return cbsas.filter(ee.Filter.eq('LSAD', 'M1'))\n",
        "\n",
        "    def _get_pop_totals(self) -> pd.DataFrame:\n",
        "      \"\"\"\n",
        "      Retrieves the total population for each MSA\n",
        "      \"\"\"\n",
        "      areas_pop = pd.read_excel('https://www2.census.gov/programs-surveys/popest/tables/2020-2023/metro/totals/cbsa-met-est2023-pop.xlsx').iloc[:, [0, 5]]\n",
        "      areas_pop.columns = ['Area', 'Est. Pop July 1 2023']\n",
        "      areas_pop = areas_pop.set_index(areas_pop.columns[0])\n",
        "      citation = areas_pop.index[-3:]\n",
        "      areas_pop = areas_pop.iloc[3:-6]\n",
        "      areas_pop = areas_pop.dropna()\n",
        "      areas_pop.index = areas_pop.index.str.lstrip('.')\n",
        "      areas_pop.index = areas_pop.index.str.replace('In Metropolitan Statistical Area', '^ In All MSAs')\n",
        "      areas_pop.index = areas_pop.index.str.replace(' Metro Area', '')\n",
        "      areas_pop = areas_pop[~areas_pop.index.str.endswith('Division')]\n",
        "      for line in citation:\n",
        "          areas_pop.loc[line] = np.nan\n",
        "      return areas_pop"
      ],
      "cell_type": "code",
      "metadata": {
        "id": "hQolXq31Jq4v",
        "colab": {
          "base_uri": "https://localhost:8080/",
          "height": 17
        },
        "outputId": "ddd65936-7f93-4b6f-c567-963e1382dd1b"
      },
      "execution_count": null,
      "outputs": [
        {
          "output_type": "display_data",
          "data": {
            "text/plain": [
              "<IPython.core.display.HTML object>"
            ],
            "text/html": [
              "\n",
              "            <style>\n",
              "                .geemap-dark {\n",
              "                    --jp-widgets-color: white;\n",
              "                    --jp-widgets-label-color: white;\n",
              "                    --jp-ui-font-color1: white;\n",
              "                    --jp-layout-color2: #454545;\n",
              "                    background-color: #383838;\n",
              "                }\n",
              "\n",
              "                .geemap-dark .jupyter-button {\n",
              "                    --jp-layout-color3: #383838;\n",
              "                }\n",
              "\n",
              "                .geemap-colab {\n",
              "                    background-color: var(--colab-primary-surface-color, white);\n",
              "                }\n",
              "\n",
              "                .geemap-colab .jupyter-button {\n",
              "                    --jp-layout-color3: var(--colab-primary-surface-color, white);\n",
              "                }\n",
              "            </style>\n",
              "            "
            ]
          },
          "metadata": {}
        }
      ]
    }
  ]
}