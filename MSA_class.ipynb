{
  "cells": [
    {
      "cell_type": "markdown",
      "metadata": {
        "colab_type": "text",
        "id": "view-in-github"
      },
      "source": [
        "<a href=\"https://colab.research.google.com/github/SM24-Industrial-Software-Dev/ML-forecasting-NOx-levels/blob/ES-12-MSA-Class/MSA_class.ipynb\" target=\"_parent\"><img src=\"https://colab.research.google.com/assets/colab-badge.svg\" alt=\"Open In Colab\"/></a>"
      ]
    },
    {
      "cell_type": "markdown",
      "metadata": {
        "id": "yLc3_-HosAqW"
      },
      "source": [
        "### This is the setup code"
      ]
    },
    {
      "cell_type": "code",
      "execution_count": null,
      "metadata": {
        "colab": {
          "base_uri": "https://localhost:8080/"
        },
        "collapsed": true,
        "id": "qBsRAklW2ghB",
        "outputId": "332d7401-6d99-46bd-96c1-f97bdd4391ff"
      },
      "outputs": [
        {
          "name": "stdout",
          "output_type": "stream",
          "text": [
            "Collecting pycrs\n",
            "  Downloading PyCRS-1.0.2.tar.gz (36 kB)\n",
            "  Preparing metadata (setup.py) ... \u001b[?25l\u001b[?25hdone\n",
            "Building wheels for collected packages: pycrs\n",
            "  Building wheel for pycrs (setup.py) ... \u001b[?25l\u001b[?25hdone\n",
            "  Created wheel for pycrs: filename=PyCRS-1.0.2-py3-none-any.whl size=32687 sha256=c405b733dac857f8a7a548e76eef586c9546fb5743a3f62e8e04d65c4c5594de\n",
            "  Stored in directory: /root/.cache/pip/wheels/47/1d/70/7a5bdf33347e7c75e95b06b1fa38f076a59a9506653cc24aff\n",
            "Successfully built pycrs\n",
            "Installing collected packages: pycrs\n",
            "Successfully installed pycrs-1.0.2\n"
          ]
        }
      ],
      "source": [
        "# Imports and Installations\n",
        "from google.colab import userdata\n",
        "import ee\n",
        "import requests\n",
        "import zipfile\n",
        "import io\n",
        "import geemap\n",
        "\n",
        "!pip install pycrs"
      ]
    },
    {
      "cell_type": "code",
      "execution_count": null,
      "metadata": {
        "colab": {
          "base_uri": "https://localhost:8080/"
        },
        "id": "xG3klrPR5i0W",
        "outputId": "662406d7-41d4-4606-8993-bbd584c039a5"
      },
      "outputs": [
        {
          "data": {
            "text/html": [
              "\n",
              "            <style>\n",
              "                .geemap-dark {\n",
              "                    --jp-widgets-color: white;\n",
              "                    --jp-widgets-label-color: white;\n",
              "                    --jp-ui-font-color1: white;\n",
              "                    --jp-layout-color2: #454545;\n",
              "                    background-color: #383838;\n",
              "                }\n",
              "\n",
              "                .geemap-dark .jupyter-button {\n",
              "                    --jp-layout-color3: #383838;\n",
              "                }\n",
              "\n",
              "                .geemap-colab {\n",
              "                    background-color: var(--colab-primary-surface-color, white);\n",
              "                }\n",
              "\n",
              "                .geemap-colab .jupyter-button {\n",
              "                    --jp-layout-color3: var(--colab-primary-surface-color, white);\n",
              "                }\n",
              "            </style>\n",
              "            "
            ],
            "text/plain": [
              "<IPython.core.display.HTML object>"
            ]
          },
          "metadata": {},
          "output_type": "display_data"
        }
      ],
      "source": [
        "# Authenticate GEE\n",
        "credentials = ee.ServiceAccountCredentials(\"yeshiva-summer-2024-1@yu-summer-2024.iam.gserviceaccount.com\", key_data=userdata.get('GCP_CREDENTIALS'))\n",
        "ee.Initialize(credentials = credentials, project='yu-summer-2024', opt_url='https://earthengine-highvolume.googleapis.com')"
      ]
    },
    {
      "cell_type": "markdown",
      "metadata": {
        "id": "_FA5y1AXLQ4_"
      },
      "source": [
        "### This is the code for a class used to obtain a list of all MSAs and their boundaries"
      ]
    },
    {
      "cell_type": "code",
      "execution_count": null,
      "metadata": {
        "colab": {
          "base_uri": "https://localhost:8080/",
          "height": 17
        },
        "id": "hQolXq31Jq4v",
        "outputId": "32ec3ced-85c3-43d9-c4fd-b26c2eb2a22e"
      },
      "outputs": [
        {
          "data": {
            "text/html": [
              "\n",
              "            <style>\n",
              "                .geemap-dark {\n",
              "                    --jp-widgets-color: white;\n",
              "                    --jp-widgets-label-color: white;\n",
              "                    --jp-ui-font-color1: white;\n",
              "                    --jp-layout-color2: #454545;\n",
              "                    background-color: #383838;\n",
              "                }\n",
              "\n",
              "                .geemap-dark .jupyter-button {\n",
              "                    --jp-layout-color3: #383838;\n",
              "                }\n",
              "\n",
              "                .geemap-colab {\n",
              "                    background-color: var(--colab-primary-surface-color, white);\n",
              "                }\n",
              "\n",
              "                .geemap-colab .jupyter-button {\n",
              "                    --jp-layout-color3: var(--colab-primary-surface-color, white);\n",
              "                }\n",
              "            </style>\n",
              "            "
            ],
            "text/plain": [
              "<IPython.core.display.HTML object>"
            ]
          },
          "metadata": {},
          "output_type": "display_data"
        }
      ],
      "source": [
        "# The class definition\n",
        "class MSA:\n",
        "    def __init__(self, year: int = 2023):\n",
        "        \"\"\"\n",
        "        Initializes an object representing a collection of Metropolitan Statistical Areas (MSAs)\n",
        "\n",
        "        Args:\n",
        "            year (int): The year of the shapefile (2023 by default, can range from 2014-2023)\n",
        "        \"\"\"\n",
        "        self._year = year\n",
        "        self._year_checker()\n",
        "        self._msa_medium_res = self._retrieve_msas()\n",
        "        self._names = self._msa_medium_res.aggregate_array('NAME').getInfo()\n",
        "\n",
        "    @property\n",
        "    def all_areas(self) -> ee.FeatureCollection:\n",
        "      \"\"\"\n",
        "      Returns:\n",
        "        A FeatureCollection containing all the MSAs.\n",
        "      \"\"\"\n",
        "      return self._msa_medium_res\n",
        "\n",
        "    @property\n",
        "    def names(self) -> list[str]:\n",
        "      \"\"\"\n",
        "      Returns a list of all the MSA names.\n",
        "      \"\"\"\n",
        "      return self._names\n",
        "\n",
        "    def areas_by_name(self, names: str | list[str]) -> ee.FeatureCollection:\n",
        "      \"\"\"\n",
        "      Filters a FeatureCollection of MSAs by the selected name(s).\n",
        "\n",
        "      Args:\n",
        "        names (str or list[str]): The name(s) to filter by.\n",
        "\n",
        "      Returns:\n",
        "        A FeatureCollection containing the MSAs matching the provided name(s).\n",
        "      \"\"\"\n",
        "      if isinstance(names, str):\n",
        "        names = [names]\n",
        "      return self._msa_medium_res.filter(ee.Filter.inList('NAME', names))\n",
        "\n",
        "    # The method to retrieve a shapefile conaining all Core-Based Statistical Areas (CBSAs)\n",
        "    # Only used so far to obtain the medium resolution shapefile, at a resolution of 1:5,000,000\n",
        "    def _retrieve_msas(self, resolution='5m'):\n",
        "      \"\"\"\n",
        "      Downloads a CBSA shapefile from the US Census Bureau, uploads it to Google Earth Engine (GEE), and returns a FeatureCollection of MSAs\n",
        "\n",
        "      Args:\n",
        "          resolution (str): The resolution of the shapefile (5m by default, can be 500k, 5m, or 20m)\n",
        "\n",
        "      Returns:\n",
        "          FeatureCollection: A FeatureCollection of Metropolitan Statistical Areas (MSAs)\n",
        "      \"\"\"\n",
        "      filename = f'cb_{self._year}_us_cbsa_{resolution}'\n",
        "      # Download the shapefile\n",
        "      response = requests.get(f'https://www2.census.gov/geo/tiger/GENZ{self._year}/shp/{filename}.zip')\n",
        "\n",
        "      # Check if the request was successful\n",
        "      if response.status_code != 200:\n",
        "          raise Exception(f\"Failed to download shapefile. Status code: {response.status_code}\")\n",
        "\n",
        "      # Extract the shapefile\n",
        "      with zipfile.ZipFile(io.BytesIO(response.content)) as zip_ref:\n",
        "          zip_ref.extractall()\n",
        "\n",
        "      # Upload the shapefile to GEE by reading it with Latin-1 encoding, which is commonly used for shapefiles\n",
        "      cbsas = geemap.shp_to_ee(f'{filename}.shp', encoding='latin1')\n",
        "\n",
        "      # Then filter for Metropolitan Statistical Areas (MSAs), which are CBSAs with a population > 50k\n",
        "      return cbsas.filter(ee.Filter.eq('LSAD', 'M1'))\n",
        "\n",
        "    def _year_checker(self):\n",
        "      \"\"\"\n",
        "      Checks if the year is within the valid range.\n",
        "      \"\"\"\n",
        "      if self._year < 2014:\n",
        "        self._year = 2014\n",
        "      elif self._year > 2023:\n",
        "        self._year = 2023"
      ]
    },
    {
      "cell_type": "code",
      "execution_count": null,
      "metadata": {
        "colab": {
          "base_uri": "https://localhost:8080/",
          "height": 17
        },
        "id": "g7Kw3SyVzLzV",
        "outputId": "8bb909be-2570-4add-9f7b-44ea6e16fd12"
      },
      "outputs": [
        {
          "data": {
            "text/html": [
              "\n",
              "            <style>\n",
              "                .geemap-dark {\n",
              "                    --jp-widgets-color: white;\n",
              "                    --jp-widgets-label-color: white;\n",
              "                    --jp-ui-font-color1: white;\n",
              "                    --jp-layout-color2: #454545;\n",
              "                    background-color: #383838;\n",
              "                }\n",
              "\n",
              "                .geemap-dark .jupyter-button {\n",
              "                    --jp-layout-color3: #383838;\n",
              "                }\n",
              "\n",
              "                .geemap-colab {\n",
              "                    background-color: var(--colab-primary-surface-color, white);\n",
              "                }\n",
              "\n",
              "                .geemap-colab .jupyter-button {\n",
              "                    --jp-layout-color3: var(--colab-primary-surface-color, white);\n",
              "                }\n",
              "            </style>\n",
              "            "
            ],
            "text/plain": [
              "<IPython.core.display.HTML object>"
            ]
          },
          "metadata": {},
          "output_type": "display_data"
        }
      ],
      "source": [
        "# The class being initialized\n",
        "msa = MSA()"
      ]
    }
  ],
  "metadata": {
    "colab": {
      "authorship_tag": "ABX9TyNBRdYR8mK+z6MM4e9Ip0IC",
      "collapsed_sections": [
        "yLc3_-HosAqW"
      ],
      "include_colab_link": true,
      "provenance": [],
      "toc_visible": true
    },
    "kernelspec": {
      "display_name": "Python 3",
      "name": "python3"
    },
    "language_info": {
      "name": "python"
    }
  },
  "nbformat": 4,
  "nbformat_minor": 0
}
